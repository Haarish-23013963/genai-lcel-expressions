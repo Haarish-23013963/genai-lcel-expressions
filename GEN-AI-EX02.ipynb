{
 "cells": [
  {
   "cell_type": "code",
   "execution_count": 25,
   "id": "e23d3681",
   "metadata": {
    "height": 404
   },
   "outputs": [
    {
     "data": {
      "text/plain": [
       "'One Piece is a popular Japanese manga and anime series created by Eiichiro Oda. The story follows Monkey D. Luffy, a young pirate with the ability to stretch his body like rubber after eating a Devil Fruit. Luffy sets out on a journey to find the legendary treasure known as the One Piece and become the Pirate King.\\n\\nThroughout his journey, Luffy gathers a diverse crew of pirates, known as the Straw Hat Pirates, and they embark on various adventures while facing powerful enemies and uncovering mysteries from the past. The series is known for its intricate world-building, well-developed characters, and epic battles.\\n\\nOne Piece has been serialized in Weekly Shonen Jump magazine since 1997 and has spawned a successful anime adaptation, as well as numerous films, video games, and merchandise. It is one of the best-selling manga series of all time and has a massive global fanbase.'"
      ]
     },
     "execution_count": 25,
     "metadata": {},
     "output_type": "execute_result"
    }
   ],
   "source": [
    "# NAME: HAARISH V\n",
    "# REG NO: 212223230067\n",
    "# SIMPLE CHAIN\n",
    "import os\n",
    "import openai\n",
    "\n",
    "from dotenv import load_dotenv, find_dotenv\n",
    "_ = load_dotenv(find_dotenv()) # read local .env file\n",
    "openai.api_key = os.environ['OPENAI_API_KEY']\n",
    "\n",
    "from langchain.prompts import ChatPromptTemplate\n",
    "from langchain.chat_models import ChatOpenAI\n",
    "from langchain.schema.output_parser import StrOutputParser\n",
    "\n",
    "prompt = ChatPromptTemplate.from_template(\n",
    "    \"tell me about {topic}\"\n",
    ")\n",
    "model = ChatOpenAI()\n",
    "output_parser = StrOutputParser()\n",
    "\n",
    "chain = prompt | model | output_parser\n",
    "\n",
    "chain.invoke({\"topic\": \"one piece\"})"
   ]
  },
  {
   "cell_type": "code",
   "execution_count": 12,
   "id": "0beb8809",
   "metadata": {
    "height": 232
   },
   "outputs": [
    {
     "data": {
      "text/plain": [
       "[Document(page_content='(LCEL)LangChain Expression Language (LCEL) is a declarative syntax for composing and chaining LangChain components efficiently.'),\n",
       " Document(page_content='Generative AI is a type of artificial intelligence that creates new content, such as text, images, or code, based on learned patterns.')]"
      ]
     },
     "execution_count": 12,
     "metadata": {},
     "output_type": "execute_result"
    }
   ],
   "source": [
    "# COMPLEX CHAIN\n",
    "from langchain.embeddings import OpenAIEmbeddings\n",
    "from langchain.vectorstores import DocArrayInMemorySearch   \n",
    "\n",
    "vectorstore = DocArrayInMemorySearch.from_texts(\n",
    "    [\"Generative AI is a type of artificial intelligence that creates new content, such as text, images, or code, based on learned patterns.\",\"(LCEL)LangChain Expression Language (LCEL) is a declarative syntax for composing and chaining LangChain components efficiently.\"],\n",
    "    embedding=OpenAIEmbeddings()\n",
    ")\n",
    "retriever = vectorstore.as_retriever()\n",
    "\n",
    "retriever.get_relevant_documents(\"what is generative ai?\")\n",
    "retriever.get_relevant_documents(\"what is the full form of LCEL\")"
   ]
  },
  {
   "cell_type": "code",
   "execution_count": 13,
   "id": "0d12cd6f",
   "metadata": {
    "height": 234
   },
   "outputs": [],
   "source": [
    "template = \"\"\"Answer the question based only on the following context:\n",
    "{context}\n",
    "\n",
    "Question: {question}\n",
    "\"\"\"\n",
    "prompt = ChatPromptTemplate.from_template(template)\n",
    "\n",
    "from langchain.schema.runnable import RunnableMap\n",
    "\n",
    "chain = RunnableMap({\n",
    "    \"context\": lambda x: retriever.get_relevant_documents(x[\"question\"]),\n",
    "    \"question\": lambda x: x[\"question\"]\n",
    "}) | prompt | model | output_parser"
   ]
  },
  {
   "cell_type": "code",
   "execution_count": 14,
   "id": "68b28389",
   "metadata": {
    "height": 30
   },
   "outputs": [
    {
     "data": {
      "text/plain": [
       "'LangChain Expression Language'"
      ]
     },
     "execution_count": 14,
     "metadata": {},
     "output_type": "execute_result"
    }
   ],
   "source": [
    "chain.invoke({\"question\": \"what is the full form of LCEL?\"})"
   ]
  },
  {
   "cell_type": "code",
   "execution_count": 19,
   "id": "8de3be02",
   "metadata": {
    "height": 81
   },
   "outputs": [],
   "source": [
    "inputs = RunnableMap({\n",
    "    \"context\": lambda x: retriever.get_relevant_documents(x[\"question\"]),\n",
    "    \"question\": lambda x: x[\"question\"]\n",
    "})"
   ]
  },
  {
   "cell_type": "code",
   "execution_count": 20,
   "id": "2c4ea859",
   "metadata": {
    "height": 30
   },
   "outputs": [
    {
     "data": {
      "text/plain": [
       "{'context': [Document(page_content='(LCEL)LangChain Expression Language (LCEL) is a declarative syntax for composing and chaining LangChain components efficiently.'),\n",
       "  Document(page_content='Generative AI is a type of artificial intelligence that creates new content, such as text, images, or code, based on learned patterns.')],\n",
       " 'question': 'what is the full form of LCEL?'}"
      ]
     },
     "execution_count": 20,
     "metadata": {},
     "output_type": "execute_result"
    }
   ],
   "source": [
    "inputs.invoke({\"question\": \"what is the full form of LCEL?\"})"
   ]
  }
 ],
 "metadata": {
  "kernelspec": {
   "display_name": "Python 3 (ipykernel)",
   "language": "python",
   "name": "python3"
  },
  "language_info": {
   "codemirror_mode": {
    "name": "ipython",
    "version": 3
   },
   "file_extension": ".py",
   "mimetype": "text/x-python",
   "name": "python",
   "nbconvert_exporter": "python",
   "pygments_lexer": "ipython3",
   "version": "3.9.19"
  }
 },
 "nbformat": 4,
 "nbformat_minor": 5
}
